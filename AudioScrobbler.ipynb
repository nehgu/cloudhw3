{
 "cells": [
  {
   "cell_type": "code",
   "execution_count": 1,
   "metadata": {
    "collapsed": false
   },
   "outputs": [],
   "source": [
    "from pyspark import SparkContext, SparkConf\n",
    "sc = SparkContext(appName=\"AudioScrobbler\")"
   ]
  },
  {
   "cell_type": "code",
   "execution_count": 2,
   "metadata": {
    "collapsed": false
   },
   "outputs": [],
   "source": [
    "#load the data\n",
    "rawuserartistdata = sc.textFile(\"user_artist_data.txt\")"
   ]
  },
  {
   "cell_type": "code",
   "execution_count": 3,
   "metadata": {
    "collapsed": false
   },
   "outputs": [
    {
     "data": {
      "text/plain": [
       "(count: 24296858, mean: 1947573.2653533542, stdev: 496000.544975, max: 2443548.0, min: 90.0)"
      ]
     },
     "execution_count": 3,
     "metadata": {},
     "output_type": "execute_result"
    }
   ],
   "source": [
    "#check if maximum user and artist IDs are smaller than 2147483647\n",
    "rawuserartistdata.map(lambda x: float(x.split()[0])).stats()"
   ]
  },
  {
   "cell_type": "code",
   "execution_count": 4,
   "metadata": {
    "collapsed": false
   },
   "outputs": [
    {
     "data": {
      "text/plain": [
       "(count: 24296858, mean: 1718704.0937569223, stdev: 2539389.04017, max: 10794401.0, min: 1.0)"
      ]
     },
     "execution_count": 4,
     "metadata": {},
     "output_type": "execute_result"
    }
   ],
   "source": [
    "rawuserartistdata.map(lambda x: float(x.split()[1])).stats()"
   ]
  },
  {
   "cell_type": "code",
   "execution_count": 5,
   "metadata": {
    "collapsed": false
   },
   "outputs": [
    {
     "data": {
      "text/plain": [
       "user_artist_data.txt MapPartitionsRDD[1] at textFile at NativeMethodAccessorImpl.java:-2"
      ]
     },
     "execution_count": 5,
     "metadata": {},
     "output_type": "execute_result"
    }
   ],
   "source": [
    "# split data in 1:9 ratio for test and training respectively\n",
    "#weights = [.1, .9]\n",
    "#seed = 10000\n",
    "#sample, test = rawuserartistdata.randomSplit(weights, seed)\n",
    "#sample.cache()\n",
    "rawuserartistdata.cache()"
   ]
  },
  {
   "cell_type": "code",
   "execution_count": 6,
   "metadata": {
    "collapsed": false
   },
   "outputs": [],
   "source": [
    "rawartistdata=sc.textFile('artist_data.txt')\n",
    "def splitlines(singlePair):\n",
    "    words = singlePair.rsplit('\\t')\n",
    "    if len(words) != 2:\n",
    "        return []\n",
    "    else:\n",
    "        try:\n",
    "            return [(int(words[0]), words[1])]\n",
    "        except:\n",
    "            return []\n",
    "\n",
    "artistByID = dict(rawartistdata.flatMap(lambda x: splitlines(x)).collect())"
   ]
  },
  {
   "cell_type": "code",
   "execution_count": 7,
   "metadata": {
    "collapsed": true
   },
   "outputs": [],
   "source": [
    "rawAliasdata = sc.textFile('artist_alias.txt')\n",
    "artistAlias = rawAliasdata.flatMap(lambda x: splitlines(x)).collectAsMap()"
   ]
  },
  {
   "cell_type": "code",
   "execution_count": 8,
   "metadata": {
    "collapsed": false
   },
   "outputs": [
    {
     "ename": "NameError",
     "evalue": "name 'sample' is not defined",
     "output_type": "error",
     "traceback": [
      "\u001b[0;31m---------------------------------------------------------------------------\u001b[0m",
      "\u001b[0;31mNameError\u001b[0m                                 Traceback (most recent call last)",
      "\u001b[0;32m<ipython-input-8-46ece41dcec1>\u001b[0m in \u001b[0;36m<module>\u001b[0;34m()\u001b[0m\n\u001b[1;32m     11\u001b[0m     \u001b[0;32mreturn\u001b[0m \u001b[0mRating\u001b[0m\u001b[0;34m(\u001b[0m\u001b[0muserID\u001b[0m\u001b[0;34m,\u001b[0m \u001b[0mfinalArtistID\u001b[0m\u001b[0;34m,\u001b[0m \u001b[0mcount\u001b[0m\u001b[0;34m)\u001b[0m\u001b[0;34m\u001b[0m\u001b[0m\n\u001b[1;32m     12\u001b[0m \u001b[0;34m\u001b[0m\u001b[0m\n\u001b[0;32m---> 13\u001b[0;31m \u001b[0mtrainData\u001b[0m \u001b[0;34m=\u001b[0m \u001b[0msample\u001b[0m\u001b[0;34m.\u001b[0m\u001b[0mmap\u001b[0m\u001b[0;34m(\u001b[0m\u001b[0;32mlambda\u001b[0m \u001b[0mx\u001b[0m\u001b[0;34m:\u001b[0m \u001b[0mmapAlias\u001b[0m\u001b[0;34m(\u001b[0m\u001b[0mx\u001b[0m\u001b[0;34m)\u001b[0m\u001b[0;34m)\u001b[0m\u001b[0;34m\u001b[0m\u001b[0m\n\u001b[0m\u001b[1;32m     14\u001b[0m \u001b[0mtrainData\u001b[0m\u001b[0;34m.\u001b[0m\u001b[0mcache\u001b[0m\u001b[0;34m(\u001b[0m\u001b[0;34m)\u001b[0m\u001b[0;34m\u001b[0m\u001b[0m\n",
      "\u001b[0;31mNameError\u001b[0m: name 'sample' is not defined"
     ]
    }
   ],
   "source": [
    "from pyspark.mllib import recommendation\n",
    "from pyspark.mllib.recommendation import *\n",
    "\n",
    "bartistAlias = sc.broadcast(artistAlias)\n",
    "\n",
    "def mapAlias(x):\n",
    "    userID, artistID, count = map(lambda lineItem: int(lineItem), x.split())\n",
    "    finalArtistID = bartistAlias.value.get(artistID)\n",
    "    if finalArtistID is None:\n",
    "        finalArtistID = artistID\n",
    "    return Rating(userID, finalArtistID, count)\n",
    "\n",
    "trainData = rawuserartistdata.map(lambda x: mapAlias(x))\n",
    "trainData.cache()"
   ]
  },
  {
   "cell_type": "code",
   "execution_count": 58,
   "metadata": {
    "collapsed": true
   },
   "outputs": [],
   "source": [
    "# training the ALS model with hyperparameters\n",
    "model = ALS.trainImplicit(trainData, 10, 5, 0.01)"
   ]
  },
  {
   "cell_type": "code",
   "execution_count": 60,
   "metadata": {
    "collapsed": false
   },
   "outputs": [
    {
     "name": "stdout",
     "output_type": "stream",
     "text": [
      "['The Saw Doctors', 'Xzibit']\n"
     ]
    }
   ],
   "source": [
    "#recommendations for user id #2093760\n",
    "testUserID = 2093760\n",
    "artistByIDBroadcast = sc.broadcast(artistByID)\n",
    "\n",
    "artistsForUser = (trainData\n",
    "                  .filter(lambda observation: observation.user == testUserID)\n",
    "                  .map(lambda observation: artistByIDBroadcast.value.get(observation.product))\n",
    "                  .collect())\n",
    "print (artistsForUser)"
   ]
  },
  {
   "cell_type": "code",
   "execution_count": 39,
   "metadata": {
    "collapsed": false
   },
   "outputs": [
    {
     "name": "stdout",
     "output_type": "stream",
     "text": [
      "[Rating(user=2093760, product=4267, rating=0.00563151477170487), Rating(user=2093760, product=3327, rating=0.004941007386155507), Rating(user=2093760, product=1001779, rating=0.0038544516499355993), Rating(user=2093760, product=1854, rating=0.003692966249263605), Rating(user=2093760, product=1233770, rating=0.0036272200856840163)]\n",
      "Green Day',' Weezer',' Modest Mouse',' Linkin Park',' The Shins',' "
     ]
    }
   ],
   "source": [
    "recommendationsForUser=model.recommendProducts(testUserID, 5)\n",
    "#print (recommendationsForUser)\n",
    "for rating in recommendationsForUser:\n",
    "    print (artistByIDBroadcast.value.get(rating.product), end='\\',\\' ')"
   ]
  },
  {
   "cell_type": "code",
   "execution_count": 12,
   "metadata": {
    "collapsed": false
   },
   "outputs": [
    {
     "name": "stdout",
     "output_type": "stream",
     "text": [
      "[NbConvertApp] Converting notebook AudioScrobbler.ipynb to python\n",
      "[NbConvertApp] Writing 2379 bytes to AudioScrobbler.py\n"
     ]
    }
   ],
   "source": [
    "get_ipython().system(u'jupyter nbconvert --to python AudioScrobbler.ipynb')"
   ]
  },
  {
   "cell_type": "code",
   "execution_count": null,
   "metadata": {
    "collapsed": true
   },
   "outputs": [],
   "source": []
  }
 ],
 "metadata": {
  "kernelspec": {
   "display_name": "Python 3",
   "language": "python",
   "name": "python3"
  },
  "language_info": {
   "codemirror_mode": {
    "name": "ipython",
    "version": 3
   },
   "file_extension": ".py",
   "mimetype": "text/x-python",
   "name": "python",
   "nbconvert_exporter": "python",
   "pygments_lexer": "ipython3",
   "version": "3.5.1"
  }
 },
 "nbformat": 4,
 "nbformat_minor": 0
}
